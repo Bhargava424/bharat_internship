{
 "cells": [
  {
   "cell_type": "markdown",
   "metadata": {
    "_cell_guid": "1e6aa007-603f-71d2-f1d8-d943c49f5f1a"
   },
   "source": [
    "IRIS CLASSIFICATION\n"
   ]
  },
  {
   "cell_type": "markdown",
   "metadata": {},
   "source": [
    "The purpose of this script is to demonstrate the use of the Tensor Flow Library\n",
    "to implement a simple neural network."
   ]
  },
  {
   "cell_type": "code",
   "execution_count": null,
   "metadata": {
    "_cell_guid": "43421e60-f570-948b-cfa7-e01af39e6081"
   },
   "outputs": [],
   "source": [
    "import tensorflow as tf\n",
    "import numpy as np\n",
    "import pandas as pd\n",
    "import matplotlib.pyplot as plt\n",
    "import seaborn as sns\n",
    "from IPython.display import display, Image\n",
    "from pandas import get_dummies\n",
    "from sklearn.cross_validation import train_test_split\n",
    "# Config the matlotlib backend as plotting inline in IPython\n",
    "%matplotlib inline"
   ]
  },
  {
   "cell_type": "code",
   "execution_count": null,
   "metadata": {
    "_cell_guid": "b33a53ad-ef3e-daa8-ab8e-ae54540cc185"
   },
   "outputs": [],
   "source": [
    "data = pd.read_csv('../input/Iris.csv', index_col = 0)"
   ]
  },
  {
   "cell_type": "code",
   "execution_count": null,
   "metadata": {
    "_cell_guid": "e4bdbe90-ebbf-77bf-0176-86a9aa0c8c8a"
   },
   "outputs": [],
   "source": [
    "data.head()"
   ]
  },
  {
   "cell_type": "code",
   "execution_count": null,
   "metadata": {
    "_cell_guid": "caff57f7-be9a-e99e-087f-683669539739"
   },
   "outputs": [],
   "source": [
    "data.shape"
   ]
  },
  {
   "cell_type": "code",
   "execution_count": null,
   "metadata": {
    "_cell_guid": "7f59b87f-e069-c620-9ba9-4ef6f9ba55c9"
   },
   "outputs": [],
   "source": [
    "# Visualize data with Seaborn\n",
    "g=sns.pairplot(data, hue=\"Species\", size= 2.5)"
   ]
  },
  {
   "cell_type": "code",
   "execution_count": null,
   "metadata": {
    "_cell_guid": "2074936d-354a-fbc2-cbec-e7445332cf5b"
   },
   "outputs": [],
   "source": [
    "cols = data.columns\n",
    "features = cols[0:4]\n",
    "labels = cols[4]\n",
    "print(features)\n",
    "print(labels)"
   ]
  },
  {
   "cell_type": "code",
   "execution_count": null,
   "metadata": {
    "_cell_guid": "7bc30cb2-9d40-12fe-006b-076c7bf6de16"
   },
   "outputs": [],
   "source": [
    "#Well conditioned data will have zero mean and equal variance\n",
    "#We get this automattically when we calculate the Z Scores for the data\n",
    "\n",
    "data_norm = pd.DataFrame(data)\n",
    "\n",
    "for feature in features:\n",
    "    data[feature] = (data[feature] - data[feature].mean())/data[feature].std()\n",
    "\n",
    "#Show that should now have zero mean\n",
    "print(\"Averages\")\n",
    "print(data.mean())\n",
    "\n",
    "print(\"\\n Deviations\")\n",
    "#Show that we have equal variance\n",
    "print(pow(data.std(),2))"
   ]
  },
  {
   "cell_type": "code",
   "execution_count": null,
   "metadata": {
    "_cell_guid": "3e73d8dd-3a21-b48e-00d2-eeeaf2bef930"
   },
   "outputs": [],
   "source": [
    "#Shuffle The data\n",
    "indices = data_norm.index.tolist()\n",
    "indices = np.array(indices)\n",
    "np.random.shuffle(indices)\n",
    "X = data_norm.reindex(indices)[features]\n",
    "y = data_norm.reindex(indices)[labels]"
   ]
  },
  {
   "cell_type": "code",
   "execution_count": null,
   "metadata": {
    "_cell_guid": "45d8bbca-1689-9d73-2603-f4b2dace90ed"
   },
   "outputs": [],
   "source": [
    "# One Hot Encode as a dataframe\n",
    "y = get_dummies(y)\n",
    "\n",
    "# Generate Training and Validation Sets\n",
    "X_train, X_test, y_train, y_test = train_test_split(X,y, test_size=.3)\n",
    "\n",
    "# Convert to np arrays so that we can use with TensorFlow\n",
    "X_train = np.array(X_train).astype(np.float32)\n",
    "X_test  = np.array(X_test).astype(np.float32)\n",
    "y_train = np.array(y_train).astype(np.float32)\n",
    "y_test  = np.array(y_test).astype(np.float32)"
   ]
  },
  {
   "cell_type": "code",
   "execution_count": null,
   "metadata": {
    "_cell_guid": "1f9fac26-a722-52b6-f517-39af7345d40e"
   },
   "outputs": [],
   "source": [
    "#Check to make sure split still has 4 features and 3 labels\n",
    "print(X_train.shape, y_train.shape)\n",
    "print(X_test.shape, y_test.shape)"
   ]
  },
  {
   "cell_type": "code",
   "execution_count": null,
   "metadata": {
    "_cell_guid": "441b64ef-cb1b-b579-8166-bfa7d5fb9ec6"
   },
   "outputs": [],
   "source": [
    "training_size = X_train.shape[1]\n",
    "test_size = X_test.shape[1]\n",
    "num_features = 4\n",
    "num_labels = 3\n",
    "\n",
    "\n",
    "num_hidden = 10\n",
    "\n",
    "graph = tf.Graph()\n",
    "with graph.as_default():\n",
    "    tf_train_set    = tf.constant(X_train)\n",
    "    tf_train_labels = tf.constant(y_train)\n",
    "    tf_valid_set    = tf.constant(X_test)\n",
    " \n",
    "    \n",
    "    print(tf_train_set)\n",
    "    print(tf_train_labels)\n",
    "    \n",
    "    ## Note, since there is only 1 layer there are actually no hidden layers... but if there were\n",
    "    ## there would be num_hidden\n",
    "    weights_1 = tf.Variable(tf.truncated_normal([num_features, num_hidden]))\n",
    "    weights_2 = tf.Variable(tf.truncated_normal([num_hidden, num_labels]))\n",
    "    ## tf.zeros Automaticaly adjusts rows to input data batch size\n",
    "    bias_1 = tf.Variable(tf.zeros([num_hidden]))\n",
    "    bias_2 = tf.Variable(tf.zeros([num_labels]))\n",
    "    \n",
    "    \n",
    "    logits_1 = tf.matmul(tf_train_set , weights_1 ) + bias_1\n",
    "    rel_1 = tf.nn.relu(logits_1)\n",
    "    logits_2 = tf.matmul(rel_1, weights_2) + bias_2\n",
    "    \n",
    "    loss = tf.reduce_mean(tf.nn.softmax_cross_entropy_with_logits(logits_2, tf_train_labels))\n",
    "    optimizer = tf.train.GradientDescentOptimizer(.005).minimize(loss)\n",
    "    \n",
    "    \n",
    "    ## Training prediction\n",
    "    predict_train = tf.nn.softmax(logits_2)\n",
    "    \n",
    "    \n",
    "    \n",
    "    # Validation prediction\n",
    "    logits_1_val = tf.matmul(tf_valid_set, weights_1) + bias_1\n",
    "    rel_1_val    = tf.nn.relu(logits_1_val)\n",
    "    logits_2_val = tf.matmul(rel_1_val, weights_2) + bias_2\n",
    "    predict_valid = tf.nn.softmax(logits_2_val)"
   ]
  },
  {
   "cell_type": "code",
   "execution_count": null,
   "metadata": {
    "_cell_guid": "b45d065a-45e1-f7cf-428e-8d18a07f0109"
   },
   "outputs": [],
   "source": [
    "def accuracy(predictions, labels):\n",
    "  return (100.0 * np.sum(np.argmax(predictions, 1) == np.argmax(labels, 1))\n",
    "          / predictions.shape[0])\n",
    "\n",
    "num_steps = 10000\n",
    "with tf.Session(graph = graph) as session:\n",
    "    tf.initialize_all_variables().run()\n",
    "    print(loss.eval())\n",
    "    for step in range(num_steps):\n",
    "        _,l, predictions = session.run([optimizer, loss, predict_train])\n",
    "        \n",
    "        if (step % 2000 == 0):\n",
    "              #print(predictions[3:6])\n",
    "              print('Loss at step %d: %f' % (step, l))\n",
    "              print('Training accuracy: %.1f%%' % accuracy( predictions, y_train[:, :]))\n",
    "              print('Validation accuracy: %.1f%%' % accuracy(predict_valid.eval(), y_test))\n",
    "        "
   ]
  },
  {
   "cell_type": "code",
   "execution_count": null,
   "metadata": {
    "_cell_guid": "30e84fc2-0457-d60c-38c4-b7681d2e75a6"
   },
   "outputs": [],
   "source": [
    "# Conclusion - Despite poor performance of the model, I was pleased to see the \n",
    "# accuaracy for the training and validation set appears to match closely with\n",
    "# the values quoted for the probabalistic neural network studied in the paper."
   ]
  }
 ],
 "metadata": {
  "_change_revision": 152,
  "_is_fork": false,
  "kernelspec": {
   "display_name": "Python 3",
   "language": "python",
   "name": "python3"
  },
  "language_info": {
   "codemirror_mode": {
    "name": "ipython",
    "version": 3
   },
   "file_extension": ".py",
   "mimetype": "text/x-python",
   "name": "python",
   "nbconvert_exporter": "python",
   "pygments_lexer": "ipython3",
   "version": "3.5.2"
  }
 },
 "nbformat": 4,
 "nbformat_minor": 0
}
