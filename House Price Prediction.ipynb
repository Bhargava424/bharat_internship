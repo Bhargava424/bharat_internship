{
 "cells": [
  {
   "cell_type": "code",
   "execution_count": null,
   "id": "ca7fe450",
   "metadata": {},
   "outputs": [],
   "source": [
    "import pandas as pd\n",
    "import numpy as np\n",
    "import matplotlib.pyplot as plt\n",
    "import seaborn as sns"
   ]
  },
  {
   "cell_type": "code",
   "execution_count": null,
   "id": "4585cd32",
   "metadata": {},
   "outputs": [],
   "source": [
    "data = pd.read_csv('housing.csv')"
   ]
  },
  {
   "cell_type": "code",
   "execution_count": null,
   "id": "db461a4b",
   "metadata": {},
   "outputs": [],
   "source": [
    "data"
   ]
  },
  {
   "cell_type": "code",
   "execution_count": null,
   "id": "89a36526",
   "metadata": {},
   "outputs": [],
   "source": [
    "## in some algorithms we cant process the text so we have to remove that column(cleaning)"
   ]
  },
  {
   "cell_type": "code",
   "execution_count": null,
   "id": "4b94ce3e",
   "metadata": {},
   "outputs": [],
   "source": [
    "data.info()"
   ]
  },
  {
   "cell_type": "code",
   "execution_count": null,
   "id": "f82796dc",
   "metadata": {},
   "outputs": [],
   "source": [
    "## we notice that some values are missing so we have to drop those entries of null values"
   ]
  },
  {
   "cell_type": "code",
   "execution_count": null,
   "id": "5ad2de40",
   "metadata": {},
   "outputs": [],
   "source": [
    "data.dropna(inplace = True)"
   ]
  },
  {
   "cell_type": "code",
   "execution_count": null,
   "id": "30070d4a",
   "metadata": {},
   "outputs": [],
   "source": [
    "data.ocean_proximity.value_counts()"
   ]
  },
  {
   "cell_type": "code",
   "execution_count": null,
   "id": "4101a9d6",
   "metadata": {},
   "outputs": [],
   "source": [
    "pd.get_dummies(data.ocean_proximity).astype(int)"
   ]
  },
  {
   "cell_type": "code",
   "execution_count": null,
   "id": "d13626ba",
   "metadata": {},
   "outputs": [],
   "source": [
    "data = data.join(pd.get_dummies(data.ocean_proximity).astype(int))\n",
    "data"
   ]
  },
  {
   "cell_type": "code",
   "execution_count": null,
   "id": "97a81e9b",
   "metadata": {},
   "outputs": [],
   "source": [
    "data.drop(columns = ['ocean_proximity'], inplace=True)"
   ]
  },
  {
   "cell_type": "code",
   "execution_count": null,
   "id": "e7c5eb71",
   "metadata": {},
   "outputs": [],
   "source": [
    "data.hist(figsize = (16,10))"
   ]
  },
  {
   "cell_type": "code",
   "execution_count": null,
   "id": "163a9152",
   "metadata": {},
   "outputs": [],
   "source": [
    "data.corr() #give correlations with other values"
   ]
  },
  {
   "cell_type": "code",
   "execution_count": null,
   "id": "0dbf5370",
   "metadata": {},
   "outputs": [],
   "source": [
    "plt.figure(figsize=(15,8))\n",
    "sns.heatmap(data.corr(),annot=True,cmap =\"YlGnBu\")"
   ]
  },
  {
   "cell_type": "code",
   "execution_count": null,
   "id": "8fcf6691",
   "metadata": {},
   "outputs": [],
   "source": [
    "data['total_rooms'] = np.log(data['total_rooms']  + 1) #+1 to avoid 0 value\n",
    "data['total_bedrooms'] = np.log(data['total_bedrooms']  + 1)\n",
    "data['population'] = np.log(data['population']  + 1)\n",
    "data['households'] = np.log(data['households']  + 1)\n"
   ]
  },
  {
   "cell_type": "code",
   "execution_count": null,
   "id": "b14afd6e",
   "metadata": {},
   "outputs": [],
   "source": [
    "data.hist(figsize = (16,10))"
   ]
  },
  {
   "cell_type": "code",
   "execution_count": null,
   "id": "95752897",
   "metadata": {},
   "outputs": [],
   "source": [
    "plt.figure(figsize=(15,8))\n",
    "sns.scatterplot(x='latitude', y='longitude', data=data, hue = 'median_house_value', palette = 'coolwarm')"
   ]
  },
  {
   "cell_type": "code",
   "execution_count": null,
   "id": "b8d0bb99",
   "metadata": {},
   "outputs": [],
   "source": [
    "## now exploring some more feature"
   ]
  },
  {
   "cell_type": "code",
   "execution_count": null,
   "id": "d269bbe2",
   "metadata": {},
   "outputs": [],
   "source": [
    "data['bedroom_ratio'] = data['total_bedrooms']/data['total_rooms']\n",
    "data['household_rooms'] = data['total_rooms']/data['households']"
   ]
  },
  {
   "cell_type": "code",
   "execution_count": null,
   "id": "c08bae79",
   "metadata": {},
   "outputs": [],
   "source": [
    "plt.figure(figsize=(15,8))\n",
    "sns.heatmap(data.corr(),annot=True,cmap =\"YlGnBu\")"
   ]
  },
  {
   "cell_type": "code",
   "execution_count": null,
   "id": "c964eaf5",
   "metadata": {},
   "outputs": [],
   "source": [
    "## we notice that bedroom ratio is quite intersting and is related to price"
   ]
  },
  {
   "cell_type": "code",
   "execution_count": null,
   "id": "b51a612b",
   "metadata": {},
   "outputs": [],
   "source": [
    "##now all feature exploration is over and now we will do linear regression"
   ]
  },
  {
   "cell_type": "code",
   "execution_count": null,
   "id": "c670fca8",
   "metadata": {},
   "outputs": [],
   "source": [
    "data"
   ]
  },
  {
   "cell_type": "code",
   "execution_count": null,
   "id": "ee8c9f91",
   "metadata": {},
   "outputs": [],
   "source": [
    "from sklearn.model_selection import train_test_split\n",
    "X= data.drop(['median_house_value'], axis =1)\n",
    "y = data['median_house_value']\n",
    "\n",
    "X_train,X_test, y_train, y_test =  train_test_split(X,y, test_size=0.2)\n"
   ]
  },
  {
   "cell_type": "code",
   "execution_count": null,
   "id": "75108a74",
   "metadata": {},
   "outputs": [],
   "source": [
    "X"
   ]
  },
  {
   "cell_type": "code",
   "execution_count": null,
   "id": "7a2f53b7",
   "metadata": {},
   "outputs": [],
   "source": [
    "from sklearn.linear_model import LinearRegression\n",
    "\n",
    "reg = LinearRegression()\n",
    "reg.fit(X_train, y_train)"
   ]
  },
  {
   "cell_type": "code",
   "execution_count": null,
   "id": "016038ad",
   "metadata": {},
   "outputs": [],
   "source": [
    "reg.score(X_test, y_test) ##accuracy check"
   ]
  },
  {
   "cell_type": "code",
   "execution_count": null,
   "id": "29b11782",
   "metadata": {},
   "outputs": [],
   "source": [
    "from sklearn.ensemble import RandomForestRegressor\n",
    "\n",
    "forest = RandomForestRegressor()\n",
    "forest.fit(X_train, y_train)"
   ]
  },
  {
   "cell_type": "code",
   "execution_count": null,
   "id": "c3cef2a3",
   "metadata": {},
   "outputs": [],
   "source": [
    "forest.score(X_test,y_test)"
   ]
  },
  {
   "cell_type": "code",
   "execution_count": null,
   "id": "8fc7880e",
   "metadata": {},
   "outputs": [],
   "source": [
    "from sklearn.tree import DecisionTreeClassifier\n",
    "model = DecisionTreeClassifier() \n",
    "model.fit(X_train,y_train)                  "
   ]
  },
  {
   "cell_type": "code",
   "execution_count": null,
   "id": "80588b9f",
   "metadata": {},
   "outputs": [],
   "source": [
    "model.score(X_test,y_test)"
   ]
  },
  {
   "cell_type": "code",
   "execution_count": null,
   "id": "c750ab5e",
   "metadata": {},
   "outputs": [],
   "source": [
    "predictions = forest.predict([[-122.23,37.88,41.0,6.781058,4.867534,5.777652,4.844187,8.3252,0,1,0,0,0,0.717813,1.399834]]) #ask it to predict\n",
    "predictions"
   ]
  },
  {
   "cell_type": "code",
   "execution_count": null,
   "id": "61783a81",
   "metadata": {},
   "outputs": [],
   "source": [
    "#for model persistency"
   ]
  },
  {
   "cell_type": "code",
   "execution_count": null,
   "id": "3d7ff685",
   "metadata": {},
   "outputs": [],
   "source": [
    "import joblib\n",
    "joblib.dump(forest, 'House-Price-Predictor.joblib')"
   ]
  },
  {
   "cell_type": "code",
   "execution_count": null,
   "id": "9495c673",
   "metadata": {},
   "outputs": [],
   "source": [
    "forest = joblib.load('House-Price-Predictor.joblib')\n",
    "predictions = forest.predict([[-122.23,37.88,41.0,6.781058,4.867534,5.777652,4.844187,8.3252,0,1,0,0,0,0.717813,1.399834]]) #ask it to predict\n",
    "predictions"
   ]
  },
  {
   "cell_type": "code",
   "execution_count": null,
   "id": "03a5430e",
   "metadata": {},
   "outputs": [],
   "source": []
  },
  {
   "cell_type": "code",
   "execution_count": null,
   "id": "83a71e7a",
   "metadata": {},
   "outputs": [],
   "source": []
  }
 ],
 "metadata": {
  "kernelspec": {
   "display_name": "Python 3 (ipykernel)",
   "language": "python",
   "name": "python3"
  },
  "language_info": {
   "codemirror_mode": {
    "name": "ipython",
    "version": 3
   },
   "file_extension": ".py",
   "mimetype": "text/x-python",
   "name": "python",
   "nbconvert_exporter": "python",
   "pygments_lexer": "ipython3",
   "version": "3.9.13"
  }
 },
 "nbformat": 4,
 "nbformat_minor": 5
}
